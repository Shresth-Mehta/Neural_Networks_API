{
  "nbformat": 4,
  "nbformat_minor": 0,
  "metadata": {
    "colab": {
      "name": "Assignment_1.ipynb",
      "provenance": [],
      "collapsed_sections": [],
      "authorship_tag": "ABX9TyMi4wj0KcYXahZZzTeiHTYx",
      "include_colab_link": true
    },
    "kernelspec": {
      "name": "python3",
      "display_name": "Python 3"
    }
  },
  "cells": [
    {
      "cell_type": "markdown",
      "metadata": {
        "id": "view-in-github",
        "colab_type": "text"
      },
      "source": [
        "<a href=\"https://colab.research.google.com/github/Shresth-Mehta/Neural_Networks_API/blob/master/Self_Implemented_Neural_Network_API.ipynb\" target=\"_parent\"><img src=\"https://colab.research.google.com/assets/colab-badge.svg\" alt=\"Open In Colab\"/></a>"
      ]
    },
    {
      "cell_type": "code",
      "metadata": {
        "colab_type": "code",
        "id": "wt0-DOQx7VmA",
        "outputId": "c41c0c15-dd2f-4585-f872-862902f56807",
        "colab": {
          "base_uri": "https://localhost:8080/",
          "height": 504
        }
      },
      "source": [
        "!pip install --upgrade wandb\n",
        "!wandb login 3b198426fb8c2113ad027f82a1cc9366f0b81b99"
      ],
      "execution_count": 0,
      "outputs": [
        {
          "output_type": "stream",
          "text": [
            "Requirement already up-to-date: wandb in /usr/local/lib/python3.6/dist-packages (0.8.28)\n",
            "Requirement already satisfied, skipping upgrade: shortuuid>=0.5.0 in /usr/local/lib/python3.6/dist-packages (from wandb) (0.5.0)\n",
            "Requirement already satisfied, skipping upgrade: docker-pycreds>=0.4.0 in /usr/local/lib/python3.6/dist-packages (from wandb) (0.4.0)\n",
            "Requirement already satisfied, skipping upgrade: configparser>=3.8.1 in /usr/local/lib/python3.6/dist-packages (from wandb) (4.0.2)\n",
            "Requirement already satisfied, skipping upgrade: requests>=2.0.0 in /usr/local/lib/python3.6/dist-packages (from wandb) (2.21.0)\n",
            "Requirement already satisfied, skipping upgrade: GitPython>=1.0.0 in /usr/local/lib/python3.6/dist-packages (from wandb) (3.1.0)\n",
            "Requirement already satisfied, skipping upgrade: six>=1.10.0 in /usr/local/lib/python3.6/dist-packages (from wandb) (1.12.0)\n",
            "Requirement already satisfied, skipping upgrade: nvidia-ml-py3>=7.352.0 in /usr/local/lib/python3.6/dist-packages (from wandb) (7.352.0)\n",
            "Requirement already satisfied, skipping upgrade: watchdog>=0.8.3 in /usr/local/lib/python3.6/dist-packages (from wandb) (0.10.2)\n",
            "Requirement already satisfied, skipping upgrade: psutil>=5.0.0 in /usr/local/lib/python3.6/dist-packages (from wandb) (5.4.8)\n",
            "Requirement already satisfied, skipping upgrade: PyYAML>=3.10 in /usr/local/lib/python3.6/dist-packages (from wandb) (3.13)\n",
            "Requirement already satisfied, skipping upgrade: subprocess32>=3.5.3 in /usr/local/lib/python3.6/dist-packages (from wandb) (3.5.4)\n",
            "Requirement already satisfied, skipping upgrade: sentry-sdk>=0.4.0 in /usr/local/lib/python3.6/dist-packages (from wandb) (0.14.2)\n",
            "Requirement already satisfied, skipping upgrade: gql==0.2.0 in /usr/local/lib/python3.6/dist-packages (from wandb) (0.2.0)\n",
            "Requirement already satisfied, skipping upgrade: python-dateutil>=2.6.1 in /usr/local/lib/python3.6/dist-packages (from wandb) (2.6.1)\n",
            "Requirement already satisfied, skipping upgrade: Click>=7.0 in /usr/local/lib/python3.6/dist-packages (from wandb) (7.0)\n",
            "Requirement already satisfied, skipping upgrade: certifi>=2017.4.17 in /usr/local/lib/python3.6/dist-packages (from requests>=2.0.0->wandb) (2019.11.28)\n",
            "Requirement already satisfied, skipping upgrade: chardet<3.1.0,>=3.0.2 in /usr/local/lib/python3.6/dist-packages (from requests>=2.0.0->wandb) (3.0.4)\n",
            "Requirement already satisfied, skipping upgrade: idna<2.9,>=2.5 in /usr/local/lib/python3.6/dist-packages (from requests>=2.0.0->wandb) (2.8)\n",
            "Requirement already satisfied, skipping upgrade: urllib3<1.25,>=1.21.1 in /usr/local/lib/python3.6/dist-packages (from requests>=2.0.0->wandb) (1.24.3)\n",
            "Requirement already satisfied, skipping upgrade: gitdb<5,>=4.0.1 in /usr/local/lib/python3.6/dist-packages (from GitPython>=1.0.0->wandb) (4.0.2)\n",
            "Requirement already satisfied, skipping upgrade: pathtools>=0.1.1 in /usr/local/lib/python3.6/dist-packages (from watchdog>=0.8.3->wandb) (0.1.2)\n",
            "Requirement already satisfied, skipping upgrade: promise<3,>=2.0 in /usr/local/lib/python3.6/dist-packages (from gql==0.2.0->wandb) (2.3)\n",
            "Requirement already satisfied, skipping upgrade: graphql-core<2,>=0.5.0 in /usr/local/lib/python3.6/dist-packages (from gql==0.2.0->wandb) (1.1)\n",
            "Requirement already satisfied, skipping upgrade: smmap<4,>=3.0.1 in /usr/local/lib/python3.6/dist-packages (from gitdb<5,>=4.0.1->GitPython>=1.0.0->wandb) (3.0.1)\n",
            "\u001b[34m\u001b[1mwandb\u001b[0m: Appending key for api.wandb.ai to your netrc file: /root/.netrc\n",
            "\u001b[32mSuccessfully logged in to Weights & Biases!\u001b[0m\n"
          ],
          "name": "stdout"
        }
      ]
    },
    {
      "cell_type": "code",
      "metadata": {
        "id": "SEviuA4w2Nz9",
        "colab_type": "code",
        "colab": {}
      },
      "source": [
        "import numpy as np\n",
        "import matplotlib.pyplot as plt\n",
        "import pandas as pd\n",
        "import pickle\n",
        "#import wandb\n",
        "import os"
      ],
      "execution_count": 0,
      "outputs": []
    },
    {
      "cell_type": "code",
      "metadata": {
        "id": "r0cRlHD4dK4b",
        "colab_type": "code",
        "outputId": "7034444f-ea50-4410-8227-869566bbe41e",
        "colab": {
          "base_uri": "https://localhost:8080/",
          "height": 54
        }
      },
      "source": [
        "from google.colab import drive\n",
        "drive.mount('/content/drive')"
      ],
      "execution_count": 0,
      "outputs": [
        {
          "output_type": "stream",
          "text": [
            "Drive already mounted at /content/drive; to attempt to forcibly remount, call drive.mount(\"/content/drive\", force_remount=True).\n"
          ],
          "name": "stdout"
        }
      ]
    },
    {
      "cell_type": "markdown",
      "metadata": {
        "id": "jEwObToLaI2Q",
        "colab_type": "text"
      },
      "source": [
        "# Saving the model"
      ]
    },
    {
      "cell_type": "code",
      "metadata": {
        "id": "Yg-NGa-lDK2u",
        "colab_type": "code",
        "colab": {}
      },
      "source": [
        "def save_model(filename,model_obj):\n",
        "  mod=model_obj\n",
        "  if(filename==None):\n",
        "    filename=mod.model_run_name\n",
        "  fileobj=open(filename,'wb')\n",
        "  pickle.dump(mod,fileobj)\n",
        "    \n",
        "def restore_model(filename):                                                \n",
        "  return pickle.load(open(filename,'rb'))"
      ],
      "execution_count": 0,
      "outputs": []
    },
    {
      "cell_type": "markdown",
      "metadata": {
        "id": "zUueBdvryNMM",
        "colab_type": "text"
      },
      "source": [
        "# **Model Class:**"
      ]
    },
    {
      "cell_type": "code",
      "metadata": {
        "id": "7-UjRW_pyMHP",
        "colab_type": "code",
        "colab": {}
      },
      "source": [
        "class Model:\n",
        "  def __init__(self,in_dim,out_dim,loss,optimizer,learning_rate,regularization,moment,plot_loss=True,use_wandb=False,save_best=False,use_acc=False):\n",
        "    self.in_dim=in_dim\n",
        "    self.layers=[]\n",
        "    self.curr_dim=in_dim\n",
        "    self.out_dim=out_dim\n",
        "    self.optimizer=optimizer\n",
        "    self.regularization=regularization\n",
        "    self.loss_fn=loss()\n",
        "    self.loss_name=self.loss_fn.name()\n",
        "    self.learning_rate=learning_rate\n",
        "    self.moment=moment\n",
        "    self.plot_loss=plot_loss\n",
        "    self.use_wandb=use_wandb\n",
        "    self.save_best=save_best\n",
        "    self.acc=use_acc\n",
        "    self.model_run_name=\"no_name\"\n",
        "\n",
        "  def add_Dense(self,neuron_type,num_neurons):\n",
        "    layer=neuron_type(self.curr_dim,num_neurons)\n",
        "    self.layers.append(layer)\n",
        "    self.curr_dim=num_neurons\n",
        "      \n",
        "  def predict(self,X):                                                          # X should be an n-d array with (len,1)\n",
        "    y=X\n",
        "    for layer in self.layers:\n",
        "      y=layer.H_matrix(y)\n",
        "    return y\n",
        "\n",
        "  def __wandb_save(self,epoch,batch_size,learning_rate,momentum,loss):\n",
        "    wandb.init(project=\"ell_409_assignment_1\")\n",
        "    layers_list=[]\n",
        "    for layer in self.layers:\n",
        "      layers_list.append(str(layer.neuron_type)+\" \"+str(layer.num_neurons))\n",
        "    self.model_run_name=str(wandb.run.name)\n",
        "    print(self.model_run_name)\n",
        "    wandb.config.layers=layers_list\n",
        "    wandb.config.epoch=epoch\n",
        "    wandb.config.batch_size=batch_size\n",
        "    wandb.config.learning_rate=learning_rate\n",
        "    wandb.config.momentum=momentum\n",
        "    wandb.config.loss_function=loss.name()\n",
        "    wandb.config.accelerator=self.acc\n",
        "\n",
        "  def fit(self,x_train,y_train,x_test,y_test,n_epoch,batch_size):                            # plot layers is a list of number of layers that you wanna plot \n",
        "    save_model(\"initialization\",self)\n",
        "    dataset=np.array(list(zip(x_train,y_train)))\n",
        "    test_dataset=np.array(list(zip(x_test,y_test)))\n",
        "    rec_against=[]\n",
        "    train_error_mse_list=[]\n",
        "    test_error_mse_list=[]\n",
        "    train_error_ce_list=[]\n",
        "    test_error_ce_list=[]\n",
        "    if(self.use_wandb==True):\n",
        "      self.__wandb_save(n_epoch,batch_size,self.learning_rate,self.moment,self.loss_fn)\n",
        "    train_error_ce,train_error_mse,train_accuracy,unused=self.__get_logs(dataset)\n",
        "    test_error_ce,test_error_mse,test_accuracy,num_teg=self.__get_logs(test_dataset)\n",
        "    print(\"epoch:\",\"0\",\"train_error_ce:\",train_error_ce,\"train_error_mse:\",train_error_mse,\"train_accuracy:\",train_accuracy,\"num_eg:\",unused)\n",
        "    print(\"test_error_ce:\",test_error_ce,\"test_error_mse:\",test_error_mse,\"test_accuracy:\",test_accuracy,\"num_eg:\",num_teg)\n",
        "    min_testing_error=test_error_ce\n",
        "    for epoch in range(n_epoch):\n",
        "      num_eg=0\n",
        "      batch_itr=1\n",
        "      rec_against.append(epoch+1)\n",
        "      for data_point,label in dataset:\n",
        "        num_eg+=1\n",
        "        data_point=data_point.reshape(len(data_point),1)\n",
        "        label=label.reshape(len(label),1)                                       # data_point and label have to be numpy arrays (n,1)\n",
        "        #pred=self.predict(data_point)\n",
        "        if(batch_size==None):\n",
        "          self.__back_propagate(data_point,label)\n",
        "        else:\n",
        "          if(self.acc==True and batch_itr==1):\n",
        "            self.__accelerate()\n",
        "          self.__batch_propagate(data_point,label)\n",
        "          if(batch_itr==batch_size or num_eg==len(x_train)):\n",
        "            self.__batch_update(batch_size)\n",
        "            batch_itr=0\n",
        "          batch_itr+=1\n",
        "      np.random.shuffle(dataset)\n",
        "      train_error_ce,train_error_mse,train_accuracy,unused=self.__get_logs(dataset)\n",
        "      test_error_ce,test_error_mse,test_accuracy,num_teg=self.__get_logs(test_dataset)\n",
        "      print(\"epoch:\",epoch+1,\"train_error_ce:\",train_error_ce,\"train_error_mse:\",train_error_mse,\"train_accuracy:\",train_accuracy,\"num_eg:\",num_eg)\n",
        "      print(\"test_error_ce:\",test_error_ce,\"test_error_mse:\",test_error_mse,\"test_accuracy:\",test_accuracy,\"num_eg:\",num_teg) \n",
        "      if(self.use_wandb==True):\n",
        "        wandb.log({\"train_loss_mse\":train_error_mse,\"train_loss_ce\":train_error_ce,\"validation_loss_mse\":test_error_mse,\"validation_loss_ce\":test_error_ce,\"train_accuracy\":train_accuracy,\"validation_accuracy\":test_accuracy})\n",
        "      if(self.plot_loss==True):\n",
        "        train_error_mse_list.append(train_error_mse)\n",
        "        test_error_mse_list.append(test_error_mse)\n",
        "        train_error_ce_list.append(train_error_ce)\n",
        "        test_error_ce_list.append(test_error_ce)\n",
        "      if(min_testing_error>=test_error_ce and test_accuracy>96.0 and self.save_best==True):\n",
        "        min_testing_error=test_error_ce\n",
        "        self.__save_model(\"best_model\")\n",
        "\n",
        "    if(self.plot_loss==True):\n",
        "      plt.subplot(1,2,1)\n",
        "      plt.plot(rec_against,train_error_mse_list,label=\"train_error_mse\")\n",
        "      plt.plot(rec_against,test_error_mse_list,label=\"test_error_mse\")\n",
        "      plt.legend()\n",
        "      plt.subplot(1,2,2)\n",
        "      plt.plot(rec_against,train_error_ce_list,label=\"train_error_ce\")\n",
        "      plt.plot(rec_against,test_error_ce_list,label=\"test_error_ce\")\n",
        "      plt.legend()\n",
        "      plt.show()\n",
        "\n",
        "  def __get_logs(self,dataset):\n",
        "    c_e_loss=0\n",
        "    m_s_e_loss=0\n",
        "    correct=0\n",
        "    loss_c_e=Cross_entropy_loss()\n",
        "    loss_m_s_e=Squared_error_loss()\n",
        "    for data_point,label in dataset:\n",
        "      data_point=data_point.reshape(len(data_point),1)\n",
        "      label=label.reshape(len(label),1)\n",
        "      pred=self.predict(data_point)\n",
        "      #sum_error+=self.loss_fn.expression(pred,label)\n",
        "      c_e_loss+=loss_c_e.expression(pred,label)\n",
        "      m_s_e_loss+=loss_m_s_e.expression(pred,label)\n",
        "      if(np.argmax(pred)==np.argmax(label)):\n",
        "        correct+=1\n",
        "    #sum_error=sum_error/len(dataset)\n",
        "    c_e_loss=c_e_loss/len(dataset)\n",
        "    m_s_e_loss=m_s_e_loss/len(dataset)\n",
        "    accuracy=correct*100.00/len(dataset) \n",
        "    return c_e_loss,m_s_e_loss,accuracy,len(dataset)\n",
        "\n",
        "  def validate(self,x,y):\n",
        "    dataset=np.array(list(zip(x,y)))\n",
        "    ce_error,mse_error,acc,num=self.__get_logs(dataset)\n",
        "    print(\"error_ce:\",ce_error,\"error_mse:\",mse_error,\"accuracy:\",acc)\n",
        "\n",
        "\n",
        "  def __accelerate(self):\n",
        "    #print(\"acc_called\")\n",
        "    for layer in self.layers:\n",
        "      layer.W=layer.W-self.moment*layer.M_W\n",
        "      layer.B=layer.B-self.moment*layer.M_B\n",
        "\n",
        "  def __back_propagate(self,x,y):\n",
        "    if(self.acc==True):\n",
        "      self.__accelerate()\n",
        "    pred=self.predict(x)\n",
        "    D_A=self.loss_fn.Der(self.layers[-1],y)\n",
        "    for l_num in range(len(self.layers)-1,0,-1):\n",
        "      D_W=np.matmul(D_A,self.layers[l_num-1].H.transpose())\n",
        "      D_B=D_A\n",
        "      D_H=np.matmul(self.layers[l_num].W.transpose(),D_A)\n",
        "      D_A=(D_H*self.layers[l_num-1].Der_a())\n",
        "      self.__update_weights(self.layers[l_num],D_W,D_B)  \n",
        "    D_W=np.matmul(D_A,x.transpose())\n",
        "    self.__update_weights(self.layers[0],D_W,D_A)\n",
        "  \n",
        "  def __batch_update(self,batch_size):\n",
        "    for layer in self.layers:\n",
        "      DW=layer.DW/batch_size\n",
        "      DB=layer.DB/batch_size\n",
        "      self.__update_weights(layer,DW,DB)\n",
        "      layer.DW=np.zeros((layer.num_neurons,layer.in_dim))\n",
        "      layer.DB=np.zeros((layer.num_neurons,1))\n",
        "\n",
        "  def __batch_propagate(self,x,y):\n",
        "    pred=self.predict(x)\n",
        "    D_A=self.loss_fn.Der(self.layers[-1],y)\n",
        "    for l_num in range(len(self.layers)-1,0,-1):\n",
        "      D_W=np.matmul(D_A,self.layers[l_num-1].H.transpose())\n",
        "      D_B=D_A\n",
        "      self.layers[l_num].DW+=D_W\n",
        "      self.layers[l_num].DB+=D_B\n",
        "      D_H=np.matmul(self.layers[l_num].W.transpose(),D_A)\n",
        "      D_A=(D_H*self.layers[l_num-1].Der_a()) \n",
        "    D_W=np.matmul(D_A,x.transpose())\n",
        "    self.layers[0].DW+=D_W\n",
        "    self.layers[0].DB+=D_A\n",
        "  \n",
        "  def __update_weights(self,layer,D_W,D_B):\n",
        "    if(self.acc==True):\n",
        "      layer.W=layer.W-self.learning_rate*D_W\n",
        "      layer.B=layer.B-self.learning_rate*D_B\n",
        "      layer.M_W=self.moment*layer.M_W+self.learning_rate*D_W\n",
        "      layer.B_W=self.moment*layer.M_B+self.learning_rate*D_B   \n",
        "    else:\n",
        "      layer.M_W=self.learning_rate*D_W+self.moment*layer.M_W\n",
        "      layer.M_B=self.learning_rate*D_B+self.moment*layer.M_B\n",
        "      layer.W=layer.W-layer.M_W\n",
        "      layer.B=layer.B-layer.M_B\n",
        "      \n",
        "  \n",
        "  def __save_model(self,filename):\n",
        "    mod=self\n",
        "    fileobj=open(filename,'wb')\n",
        "    pickle.dump(mod,fileobj)\n",
        "  \n",
        "  def save_in_wandb(self):\n",
        "    self.__save_model(os.path.join(wandb.run.dir,\"model\"))\n",
        "\n",
        "  def confusion_matrix(self,X,Y):\n",
        "    y_pred=[]\n",
        "    y_true=[]\n",
        "    dataset=np.array(list(zip(X,Y)))\n",
        "    for data_point,label in dataset:\n",
        "      data_point=data_point.reshape(len(data_point),1)\n",
        "      label=label.reshape(len(label),1)\n",
        "      pred=self.predict(data_point)\n",
        "      y_pred.append(np.argmax(pred))\n",
        "      y_true.append(np.argmax(label))\n",
        "    matrix=np.zeros((self.out_dim,self.out_dim))\n",
        "    for i in range(len(y_true)):\n",
        "      matrix[y_true[i]][y_pred[i]] +=1\n",
        "    return (matrix,y_pred,y_true)\n",
        "  "
      ],
      "execution_count": 0,
      "outputs": []
    },
    {
      "cell_type": "markdown",
      "metadata": {
        "id": "T_DtT8g0ZlL7",
        "colab_type": "text"
      },
      "source": [
        "# Layers"
      ]
    },
    {
      "cell_type": "code",
      "metadata": {
        "id": "gazZILuSylLR",
        "colab_type": "code",
        "colab": {}
      },
      "source": [
        "class DenseLayer:\n",
        "  def __init__(self,in_dim,num_neurons):\n",
        "    self.W=np.random.randn(num_neurons,in_dim)*np.sqrt(2/(num_neurons+in_dim))\n",
        "    self.B=np.zeros((num_neurons,1))                                            # Bias is not uniform for a layer\n",
        "    self.num_neurons=num_neurons\n",
        "    self.in_dim=in_dim\n",
        "    self.A=np.zeros((num_neurons,1))\n",
        "    self.H=np.zeros((num_neurons,1))\n",
        "    self.rec_weights=[np.sum(np.absolute(self.W))/np.size(self.W)]\n",
        "    self.neuron_type=None\n",
        "    self.DW=np.zeros((num_neurons,in_dim))\n",
        "    self.DB=np.zeros((num_neurons,1))\n",
        "    self.M_W=np.zeros((num_neurons,in_dim))\n",
        "    self.M_B=np.zeros((num_neurons,1))\n",
        "\n",
        "  def update_weights_rec(self):\n",
        "    self.rec_weights.append(np.sum(np.absolute(self.W))/np.size(self.W))\n",
        "\n",
        "  def A_matrix(self,X):\n",
        "    self.A=np.matmul(self.W,X)\n",
        "    return"
      ],
      "execution_count": 0,
      "outputs": []
    },
    {
      "cell_type": "code",
      "metadata": {
        "id": "rc9_NZu8TG9T",
        "colab_type": "code",
        "colab": {}
      },
      "source": [
        "class Sigmoid_Layer(DenseLayer):\n",
        "  def __init__(self,in_dim,num_neurons):\n",
        "    DenseLayer.__init__(self,in_dim,num_neurons)\n",
        "    self.neuron_type=\"sigmoid\"\n",
        "  def h(self,x):\n",
        "    return 1.0/(1.0+np.exp(0-x))\n",
        "  def Der_a(self):\n",
        "    return self.H*(1-self.H)\n",
        "  def H_matrix(self,X):\n",
        "    self.A_matrix(X)\n",
        "    self.H=self.h(self.A+self.B)\n",
        "    return self.H\n",
        "    "
      ],
      "execution_count": 0,
      "outputs": []
    },
    {
      "cell_type": "code",
      "metadata": {
        "id": "XXxAlpvOqBb1",
        "colab_type": "code",
        "colab": {}
      },
      "source": [
        "class Softmax_Layer(DenseLayer):\n",
        "  def __init__(self,in_dim,num_neurons):\n",
        "    DenseLayer.__init__(self,in_dim,num_neurons)\n",
        "    self.neuron_type=\"softmax\"\n",
        "  def h(self,x):\n",
        "    e=np.exp(x)\n",
        "    ans=np.sum(e)\n",
        "    return np.divide(e,ans)\n",
        "  def Der_a(self):\n",
        "    return self.H*(1-self.H)                                                                     # write the derivative(not needed)\n",
        "  def H_matrix(self,X):\n",
        "    self.A_matrix(X)\n",
        "    self.H=self.h(self.A+self.B)\n",
        "    return self.H"
      ],
      "execution_count": 0,
      "outputs": []
    },
    {
      "cell_type": "markdown",
      "metadata": {
        "id": "vER8-KS4ZvzC",
        "colab_type": "text"
      },
      "source": [
        "# Loss Functions"
      ]
    },
    {
      "cell_type": "code",
      "metadata": {
        "id": "M_0suW2ECIuq",
        "colab_type": "code",
        "colab": {}
      },
      "source": [
        "class Cross_entropy_loss:\n",
        "  def name(self):\n",
        "    return \"Cross_entropy_loss\"\n",
        "  def expression(self,y_hat,y):\n",
        "    return 0-np.log(y_hat[np.argmax(y)])\n",
        "  def Der(self,layer,y):\n",
        "    if(layer.neuron_type==\"softmax\"):\n",
        "      return layer.H-y\n",
        "    elif(layer.neuron_type==\"sigmoid\"):\n",
        "      return (layer.H-1)*y                                                                   # complete the return statement\n",
        "  "
      ],
      "execution_count": 0,
      "outputs": []
    },
    {
      "cell_type": "code",
      "metadata": {
        "id": "AgIjlLIBwX4x",
        "colab_type": "code",
        "colab": {}
      },
      "source": [
        "class Squared_error_loss:\n",
        "  def name(self):\n",
        "    return \"Squared_error_loss\"\n",
        "  def expression(self,y_hat,y):\n",
        "    return np.sum((y-y_hat)**2)/(2*len(y))\n",
        "  def Der(self,layer,y):\n",
        "    if(layer.neuron_type==\"softmax\"):\n",
        "      return -(y-layer.H)*layer.H*(1-layer.H)/len(y)\n",
        "    elif(layer.neuron_type==\"sigmoid\"):\n",
        "      return -(y-layer.H)*layer.H*(1-layer.H)/len(y)\n",
        "                                                                   "
      ],
      "execution_count": 0,
      "outputs": []
    },
    {
      "cell_type": "markdown",
      "metadata": {
        "id": "Yd3jb5HJ1Hej",
        "colab_type": "text"
      },
      "source": [
        "# Getting Mnist data"
      ]
    },
    {
      "cell_type": "code",
      "metadata": {
        "id": "vqlV1QPCzDYw",
        "colab_type": "code",
        "outputId": "0bfab1ae-75a1-4984-9c3d-bf8968765a02",
        "colab": {
          "base_uri": "https://localhost:8080/",
          "height": 34
        }
      },
      "source": [
        "mnist_dataframe=pd.read_csv(\"https://download.mlcc.google.com/mledu-datasets/mnist_train_small.csv\",\n",
        "sep=\",\",header=None)\n",
        "mnist_dataframe=mnist_dataframe.reindex(np.random.permutation(mnist_dataframe.index))\n",
        "y=np.array(mnist_dataframe[0])\n",
        "l=len(y)\n",
        "y_labels=np.zeros((l,10))\n",
        "for i,j in zip(y_labels,y):\n",
        "  i[j]=1\n",
        "mnist_dataframe=mnist_dataframe.drop(columns=[0])\n",
        "x=mnist_dataframe.to_numpy()\n",
        "x=x/255.0\n",
        "print(x.shape,y_labels.shape)"
      ],
      "execution_count": 0,
      "outputs": [
        {
          "output_type": "stream",
          "text": [
            "(20000, 784) (20000, 10)\n"
          ],
          "name": "stdout"
        }
      ]
    },
    {
      "cell_type": "code",
      "metadata": {
        "id": "vNNCeVM7CDTp",
        "colab_type": "code",
        "colab": {}
      },
      "source": [
        "def test_train_split(frac,x,y):\n",
        "  num_train=int((1-frac)*len(x))\n",
        "  x_train=x[:num_train][:]\n",
        "  y_train=y[:num_train][:]\n",
        "  x_test=x[num_train:][:]\n",
        "  y_test=y[num_train:][:]\n",
        "  return (x_train,y_train,x_test,y_test)"
      ],
      "execution_count": 0,
      "outputs": []
    },
    {
      "cell_type": "code",
      "metadata": {
        "id": "zPZOmXqEEzZt",
        "colab_type": "code",
        "outputId": "d0099108-99cf-4f0f-cc76-e5c41039cb95",
        "colab": {
          "base_uri": "https://localhost:8080/",
          "height": 34
        }
      },
      "source": [
        "x_train,y_train,x_test,y_test=test_train_split(0.05,x,y_labels)\n",
        "print(x_train.shape,y_train.shape,x_test.shape,y_test.shape)"
      ],
      "execution_count": 0,
      "outputs": [
        {
          "output_type": "stream",
          "text": [
            "(19000, 784) (19000, 10) (1000, 784) (1000, 10)\n"
          ],
          "name": "stdout"
        }
      ]
    },
    {
      "cell_type": "code",
      "metadata": {
        "id": "s2Arbwmdx_qn",
        "colab_type": "code",
        "outputId": "f97b7d37-6809-4da0-c351-b0407802f661",
        "colab": {
          "base_uri": "https://localhost:8080/",
          "height": 34
        }
      },
      "source": [
        "val_x,val_y,non1,non2=test_train_split(0,x,y_labels)\n",
        "print(val_x.shape,val_y.shape,non1.shape,non2.shape)"
      ],
      "execution_count": 0,
      "outputs": [
        {
          "output_type": "stream",
          "text": [
            "(20000, 784) (20000, 10) (0, 784) (0, 10)\n"
          ],
          "name": "stdout"
        }
      ]
    },
    {
      "cell_type": "markdown",
      "metadata": {
        "id": "jr_XzK9iZMqV",
        "colab_type": "text"
      },
      "source": [
        "# Getting Smaller dataset"
      ]
    },
    {
      "cell_type": "code",
      "metadata": {
        "id": "C9v3DmXDZSYs",
        "colab_type": "code",
        "colab": {}
      },
      "source": [
        "def get_data(path):\n",
        "  mnist_dataframe=pd.read_csv(path,\n",
        "  sep=\",\",header=None)\n",
        "  mnist_dataframe=mnist_dataframe.reindex(np.random.permutation(mnist_dataframe.index))\n",
        "  y=np.array(mnist_dataframe[25])\n",
        "  l=len(y)\n",
        "  y_labels=np.zeros((l,10))\n",
        "  for i,j in zip(y_labels,y):\n",
        "    i[j]=1\n",
        "  mnist_dataframe=mnist_dataframe.drop(columns=[25])\n",
        "  x=mnist_dataframe.to_numpy()\n",
        "  #x=x/255.0\n",
        "  print(x.shape,y_labels.shape)\n",
        "  return x,y_labels\n",
        "\n",
        "def test_train_split(frac,x,y):\n",
        "  num_train=int((1-frac)*len(x))\n",
        "  x_train=x[:num_train][:]\n",
        "  y_train=y[:num_train][:]\n",
        "  x_test=x[num_train:][:]\n",
        "  y_test=y[num_train:][:]\n",
        "  return (x_train,y_train,x_test,y_test)"
      ],
      "execution_count": 0,
      "outputs": []
    },
    {
      "cell_type": "code",
      "metadata": {
        "id": "roWmc51Wl6sa",
        "colab_type": "code",
        "outputId": "8cd348ef-807e-41ea-9692-3d6ce355bb19",
        "colab": {
          "base_uri": "https://localhost:8080/",
          "height": 52
        }
      },
      "source": [
        "x,y=get_data(\"/content/drive/My Drive/trainData.csv\")\n",
        "x_train,y_train,x_test,y_test=test_train_split(0,x,y)\n",
        "print(x_train.shape,y_train.shape,x_test.shape,y_test.shape)"
      ],
      "execution_count": 0,
      "outputs": [
        {
          "output_type": "stream",
          "text": [
            "(3000, 25) (3000, 10)\n",
            "(3000, 25) (3000, 10) (0, 25) (0, 10)\n"
          ],
          "name": "stdout"
        }
      ]
    },
    {
      "cell_type": "markdown",
      "metadata": {
        "id": "t_cxoklrNiCQ",
        "colab_type": "text"
      },
      "source": [
        "# Getting The Prediction"
      ]
    },
    {
      "cell_type": "code",
      "metadata": {
        "id": "ycXb_tvoNm4S",
        "colab_type": "code",
        "colab": {}
      },
      "source": [
        "def get_test_data(path):\n",
        "  mnist_dataframe=pd.read_csv(path,\n",
        "  sep=\",\",header=None)\n",
        "  x=mnist_dataframe.to_numpy()\n",
        "  #x=x/255.0\n",
        "  print(x.shape)\n",
        "  return x\n",
        "\n",
        "def get_predictions(dataset,model_obj):\n",
        "  predictions=[]\n",
        "  id=[]\n",
        "  i=1\n",
        "  for data_point in dataset:\n",
        "    data_point=data_point.reshape(len(data_point),1)                                     # data_point and label have to be numpy arrays (n,1)\n",
        "    pred=model_obj.predict(data_point)\n",
        "    predictions.append(np.argmax(pred))\n",
        "    id.append(i)\n",
        "    i+=1\n",
        "  submission=pd.DataFrame()\n",
        "  submission['id']=id\n",
        "  submission['label']=predictions\n",
        "  return submission\n",
        "\n",
        "def get_submission_csv(test_data_path,model_obj,pred_csv_file_path):\n",
        "  test_data=get_test_data(test_data_path)\n",
        "  submission=get_predictions(test_data,model_obj)\n",
        "  submission.to_csv(pred_csv_file_path,index=False)\n",
        "  print(submission.head(10))"
      ],
      "execution_count": 0,
      "outputs": []
    },
    {
      "cell_type": "markdown",
      "metadata": {
        "id": "icsqeAJmYTJ_",
        "colab_type": "text"
      },
      "source": [
        "# Training the model"
      ]
    },
    {
      "cell_type": "code",
      "metadata": {
        "id": "4PFY2NqRyy5u",
        "colab_type": "code",
        "colab": {}
      },
      "source": [
        "nn_1=Model(25,10,Cross_entropy_loss,None,0.01,None,0.01,True,False,True,False)   #moment,plot,wandb,save_best,accelerator                                                # 10-15-10 gave nan on weights of layer 2 and 3\n",
        "nn_1.add_Dense(Sigmoid_Layer,80)\n",
        "nn_1.add_Dense(Sigmoid_Layer,60)\n",
        "nn_1.add_Dense(Softmax_Layer,10)"
      ],
      "execution_count": 0,
      "outputs": []
    },
    {
      "cell_type": "code",
      "metadata": {
        "id": "9kdXjvS8y26R",
        "colab_type": "code",
        "colab": {}
      },
      "source": [
        "nn_1.learning_rate=0.1"
      ],
      "execution_count": 0,
      "outputs": []
    },
    {
      "cell_type": "code",
      "metadata": {
        "id": "P87QsIwHLAyN",
        "colab_type": "code",
        "outputId": "a30c4528-daad-46a5-b8ec-379057b9bf41",
        "colab": {
          "base_uri": "https://localhost:8080/",
          "height": 1000
        }
      },
      "source": [
        "nn_1.fit(x_train,y_train,x_train,y_train,50,4)"
      ],
      "execution_count": 0,
      "outputs": [
        {
          "output_type": "stream",
          "text": [
            "epoch: 0 train_error_ce: [1.20932357] train_error_mse: 0.02825950296120366 train_accuracy: 70.2 num_eg: 3000\n",
            "test_error_ce: [1.20932357] test_error_mse: 0.02825950296120366 test_accuracy: 70.2 num_eg: 3000\n",
            "epoch: 1 train_error_ce: [1.1846922] train_error_mse: 0.028192603743833904 train_accuracy: 54.7 num_eg: 3000\n",
            "test_error_ce: [1.1846922] test_error_mse: 0.028192603743833953 test_accuracy: 54.7 num_eg: 3000\n",
            "epoch: 2 train_error_ce: [1.00854944] train_error_mse: 0.024221373507230377 train_accuracy: 63.9 num_eg: 3000\n",
            "test_error_ce: [1.00854944] test_error_mse: 0.024221373507230463 test_accuracy: 63.9 num_eg: 3000\n",
            "epoch: 3 train_error_ce: [0.7496409] train_error_mse: 0.017708300986113038 train_accuracy: 75.2 num_eg: 3000\n",
            "test_error_ce: [0.7496409] test_error_mse: 0.017708300986113094 test_accuracy: 75.2 num_eg: 3000\n",
            "epoch: 4 train_error_ce: [0.70088833] train_error_mse: 0.016429431327596455 train_accuracy: 76.16666666666667 num_eg: 3000\n",
            "test_error_ce: [0.70088833] test_error_mse: 0.01642943132759642 test_accuracy: 76.16666666666667 num_eg: 3000\n",
            "epoch: 5 train_error_ce: [0.64009284] train_error_mse: 0.014887696050374804 train_accuracy: 79.8 num_eg: 3000\n",
            "test_error_ce: [0.64009284] test_error_mse: 0.014887696050374778 test_accuracy: 79.8 num_eg: 3000\n",
            "epoch: 6 train_error_ce: [0.54710259] train_error_mse: 0.012161555282962613 train_accuracy: 84.63333333333334 num_eg: 3000\n",
            "test_error_ce: [0.54710259] test_error_mse: 0.012161555282962627 test_accuracy: 84.63333333333334 num_eg: 3000\n",
            "epoch: 7 train_error_ce: [0.61926353] train_error_mse: 0.014677133494829483 train_accuracy: 79.43333333333334 num_eg: 3000\n",
            "test_error_ce: [0.61926353] test_error_mse: 0.014677133494829481 test_accuracy: 79.43333333333334 num_eg: 3000\n",
            "epoch: 8 train_error_ce: [0.53086851] train_error_mse: 0.01208707423706003 train_accuracy: 84.06666666666666 num_eg: 3000\n",
            "test_error_ce: [0.53086851] test_error_mse: 0.012087074237060028 test_accuracy: 84.06666666666666 num_eg: 3000\n",
            "epoch: 9 train_error_ce: [0.54347603] train_error_mse: 0.012399359640000853 train_accuracy: 83.03333333333333 num_eg: 3000\n",
            "test_error_ce: [0.54347603] test_error_mse: 0.012399359640000862 test_accuracy: 83.03333333333333 num_eg: 3000\n",
            "epoch: 10 train_error_ce: [0.53397556] train_error_mse: 0.012351569200185748 train_accuracy: 83.26666666666667 num_eg: 3000\n",
            "test_error_ce: [0.53397556] test_error_mse: 0.012351569200185734 test_accuracy: 83.26666666666667 num_eg: 3000\n",
            "epoch: 11 train_error_ce: [0.67390258] train_error_mse: 0.015808004092885658 train_accuracy: 77.66666666666667 num_eg: 3000\n",
            "test_error_ce: [0.67390258] test_error_mse: 0.01580800409288572 test_accuracy: 77.66666666666667 num_eg: 3000\n",
            "epoch: 12 train_error_ce: [0.52617336] train_error_mse: 0.01208158230425996 train_accuracy: 83.6 num_eg: 3000\n",
            "test_error_ce: [0.52617336] test_error_mse: 0.012081582304259958 test_accuracy: 83.6 num_eg: 3000\n",
            "epoch: 13 train_error_ce: [0.42504338] train_error_mse: 0.009612230517279151 train_accuracy: 87.23333333333333 num_eg: 3000\n",
            "test_error_ce: [0.42504338] test_error_mse: 0.00961223051727916 test_accuracy: 87.23333333333333 num_eg: 3000\n",
            "epoch: 14 train_error_ce: [0.43288168] train_error_mse: 0.009863031038281763 train_accuracy: 86.5 num_eg: 3000\n",
            "test_error_ce: [0.43288168] test_error_mse: 0.00986303103828176 test_accuracy: 86.5 num_eg: 3000\n",
            "epoch: 15 train_error_ce: [0.46300312] train_error_mse: 0.010592294176277562 train_accuracy: 85.5 num_eg: 3000\n",
            "test_error_ce: [0.46300312] test_error_mse: 0.010592294176277592 test_accuracy: 85.5 num_eg: 3000\n",
            "epoch: 16 train_error_ce: [0.45471024] train_error_mse: 0.010653024716498361 train_accuracy: 85.43333333333334 num_eg: 3000\n",
            "test_error_ce: [0.45471024] test_error_mse: 0.010653024716498384 test_accuracy: 85.43333333333334 num_eg: 3000\n",
            "epoch: 17 train_error_ce: [0.42751454] train_error_mse: 0.009563150338083243 train_accuracy: 86.83333333333333 num_eg: 3000\n",
            "test_error_ce: [0.42751454] test_error_mse: 0.009563150338083224 test_accuracy: 86.83333333333333 num_eg: 3000\n",
            "epoch: 18 train_error_ce: [0.53976959] train_error_mse: 0.01267388652118331 train_accuracy: 82.4 num_eg: 3000\n",
            "test_error_ce: [0.53976959] test_error_mse: 0.012673886521183345 test_accuracy: 82.4 num_eg: 3000\n",
            "epoch: 19 train_error_ce: [0.44544485] train_error_mse: 0.010390901777286698 train_accuracy: 85.26666666666667 num_eg: 3000\n",
            "test_error_ce: [0.44544485] test_error_mse: 0.010390901777286674 test_accuracy: 85.26666666666667 num_eg: 3000\n",
            "epoch: 20 train_error_ce: [0.45538745] train_error_mse: 0.010569047768413851 train_accuracy: 85.36666666666666 num_eg: 3000\n",
            "test_error_ce: [0.45538745] test_error_mse: 0.010569047768413858 test_accuracy: 85.36666666666666 num_eg: 3000\n",
            "epoch: 21 train_error_ce: [0.39590902] train_error_mse: 0.009052849516552776 train_accuracy: 87.5 num_eg: 3000\n",
            "test_error_ce: [0.39590902] test_error_mse: 0.009052849516552768 test_accuracy: 87.5 num_eg: 3000\n",
            "epoch: 22 train_error_ce: [0.49403795] train_error_mse: 0.011726609256437023 train_accuracy: 83.7 num_eg: 3000\n",
            "test_error_ce: [0.49403795] test_error_mse: 0.011726609256437034 test_accuracy: 83.7 num_eg: 3000\n",
            "epoch: 23 train_error_ce: [0.38948113] train_error_mse: 0.008917478695669957 train_accuracy: 88.2 num_eg: 3000\n",
            "test_error_ce: [0.38948113] test_error_mse: 0.008917478695669938 test_accuracy: 88.2 num_eg: 3000\n",
            "epoch: 24 train_error_ce: [0.37724926] train_error_mse: 0.008620262069007126 train_accuracy: 88.3 num_eg: 3000\n",
            "test_error_ce: [0.37724926] test_error_mse: 0.0086202620690071 test_accuracy: 88.3 num_eg: 3000\n",
            "epoch: 25 train_error_ce: [0.41914455] train_error_mse: 0.010120664118736326 train_accuracy: 86.43333333333334 num_eg: 3000\n",
            "test_error_ce: [0.41914455] test_error_mse: 0.01012066411873632 test_accuracy: 86.43333333333334 num_eg: 3000\n",
            "epoch: 26 train_error_ce: [0.44238883] train_error_mse: 0.010496018456218004 train_accuracy: 85.5 num_eg: 3000\n",
            "test_error_ce: [0.44238883] test_error_mse: 0.010496018456218012 test_accuracy: 85.5 num_eg: 3000\n",
            "epoch: 27 train_error_ce: [0.37864162] train_error_mse: 0.00860803363260037 train_accuracy: 87.93333333333334 num_eg: 3000\n",
            "test_error_ce: [0.37864162] test_error_mse: 0.008608033632600364 test_accuracy: 87.93333333333334 num_eg: 3000\n",
            "epoch: 28 train_error_ce: [0.40357765] train_error_mse: 0.009434651991102095 train_accuracy: 87.2 num_eg: 3000\n",
            "test_error_ce: [0.40357765] test_error_mse: 0.009434651991102072 test_accuracy: 87.2 num_eg: 3000\n",
            "epoch: 29 train_error_ce: [0.38758649] train_error_mse: 0.009027398548725281 train_accuracy: 87.66666666666667 num_eg: 3000\n",
            "test_error_ce: [0.38758649] test_error_mse: 0.009027398548725269 test_accuracy: 87.66666666666667 num_eg: 3000\n",
            "epoch: 30 train_error_ce: [0.38930801] train_error_mse: 0.009094608576328775 train_accuracy: 87.53333333333333 num_eg: 3000\n",
            "test_error_ce: [0.38930801] test_error_mse: 0.009094608576328777 test_accuracy: 87.53333333333333 num_eg: 3000\n",
            "epoch: 31 train_error_ce: [0.32639105] train_error_mse: 0.007560607738383641 train_accuracy: 89.66666666666667 num_eg: 3000\n",
            "test_error_ce: [0.32639105] test_error_mse: 0.007560607738383611 test_accuracy: 89.66666666666667 num_eg: 3000\n",
            "epoch: 32 train_error_ce: [0.38160036] train_error_mse: 0.009085727718610086 train_accuracy: 87.86666666666666 num_eg: 3000\n",
            "test_error_ce: [0.38160036] test_error_mse: 0.009085727718610062 test_accuracy: 87.86666666666666 num_eg: 3000\n",
            "epoch: 33 train_error_ce: [0.42313059] train_error_mse: 0.009925196501158378 train_accuracy: 86.3 num_eg: 3000\n",
            "test_error_ce: [0.42313059] test_error_mse: 0.009925196501158378 test_accuracy: 86.3 num_eg: 3000\n",
            "epoch: 34 train_error_ce: [0.34531277] train_error_mse: 0.008023140140861414 train_accuracy: 89.16666666666667 num_eg: 3000\n",
            "test_error_ce: [0.34531277] test_error_mse: 0.008023140140861416 test_accuracy: 89.16666666666667 num_eg: 3000\n",
            "epoch: 35 train_error_ce: [0.34157078] train_error_mse: 0.007962146283185938 train_accuracy: 88.96666666666667 num_eg: 3000\n",
            "test_error_ce: [0.34157078] test_error_mse: 0.007962146283185973 test_accuracy: 88.96666666666667 num_eg: 3000\n",
            "epoch: 36 train_error_ce: [0.32912952] train_error_mse: 0.00776515955405769 train_accuracy: 89.26666666666667 num_eg: 3000\n",
            "test_error_ce: [0.32912952] test_error_mse: 0.00776515955405769 test_accuracy: 89.26666666666667 num_eg: 3000\n",
            "epoch: 37 train_error_ce: [0.32891545] train_error_mse: 0.007686930640857241 train_accuracy: 89.43333333333334 num_eg: 3000\n",
            "test_error_ce: [0.32891545] test_error_mse: 0.007686930640857252 test_accuracy: 89.43333333333334 num_eg: 3000\n",
            "epoch: 38 train_error_ce: [0.3326303] train_error_mse: 0.007766146404272194 train_accuracy: 89.4 num_eg: 3000\n",
            "test_error_ce: [0.3326303] test_error_mse: 0.007766146404272195 test_accuracy: 89.4 num_eg: 3000\n",
            "epoch: 39 train_error_ce: [0.33787101] train_error_mse: 0.008138687485445332 train_accuracy: 88.9 num_eg: 3000\n",
            "test_error_ce: [0.33787101] test_error_mse: 0.008138687485445332 test_accuracy: 88.9 num_eg: 3000\n",
            "epoch: 40 train_error_ce: [0.32409788] train_error_mse: 0.007765082414053177 train_accuracy: 89.03333333333333 num_eg: 3000\n",
            "test_error_ce: [0.32409788] test_error_mse: 0.00776508241405317 test_accuracy: 89.03333333333333 num_eg: 3000\n",
            "epoch: 41 train_error_ce: [0.36360377] train_error_mse: 0.00886626379967581 train_accuracy: 87.7 num_eg: 3000\n",
            "test_error_ce: [0.36360377] test_error_mse: 0.008866263799675774 test_accuracy: 87.7 num_eg: 3000\n",
            "epoch: 42 train_error_ce: [0.30051763] train_error_mse: 0.0070908133825528215 train_accuracy: 90.43333333333334 num_eg: 3000\n",
            "test_error_ce: [0.30051763] test_error_mse: 0.00709081338255285 test_accuracy: 90.43333333333334 num_eg: 3000\n",
            "epoch: 43 train_error_ce: [0.39818492] train_error_mse: 0.009366563744308649 train_accuracy: 86.86666666666666 num_eg: 3000\n",
            "test_error_ce: [0.39818492] test_error_mse: 0.009366563744308633 test_accuracy: 86.86666666666666 num_eg: 3000\n",
            "epoch: 44 train_error_ce: [0.30916667] train_error_mse: 0.007344456254749234 train_accuracy: 89.86666666666666 num_eg: 3000\n",
            "test_error_ce: [0.30916667] test_error_mse: 0.007344456254749253 test_accuracy: 89.86666666666666 num_eg: 3000\n",
            "epoch: 45 train_error_ce: [0.33719712] train_error_mse: 0.008038141963797957 train_accuracy: 89.0 num_eg: 3000\n",
            "test_error_ce: [0.33719712] test_error_mse: 0.008038141963797932 test_accuracy: 89.0 num_eg: 3000\n",
            "epoch: 46 train_error_ce: [0.31617137] train_error_mse: 0.007525616284329692 train_accuracy: 89.73333333333333 num_eg: 3000\n",
            "test_error_ce: [0.31617137] test_error_mse: 0.007525616284329718 test_accuracy: 89.73333333333333 num_eg: 3000\n",
            "epoch: 47 train_error_ce: [0.34119564] train_error_mse: 0.008475369828184323 train_accuracy: 88.26666666666667 num_eg: 3000\n",
            "test_error_ce: [0.34119564] test_error_mse: 0.008475369828184304 test_accuracy: 88.26666666666667 num_eg: 3000\n",
            "epoch: 48 train_error_ce: [0.31432189] train_error_mse: 0.00736849802970316 train_accuracy: 89.76666666666667 num_eg: 3000\n",
            "test_error_ce: [0.31432189] test_error_mse: 0.007368498029703165 test_accuracy: 89.76666666666667 num_eg: 3000\n",
            "epoch: 49 train_error_ce: [0.28842927] train_error_mse: 0.006839449541109543 train_accuracy: 91.0 num_eg: 3000\n",
            "test_error_ce: [0.28842927] test_error_mse: 0.006839449541109515 test_accuracy: 91.0 num_eg: 3000\n",
            "epoch: 50 train_error_ce: [0.30888824] train_error_mse: 0.007185304414232863 train_accuracy: 90.5 num_eg: 3000\n",
            "test_error_ce: [0.30888824] test_error_mse: 0.007185304414232837 test_accuracy: 90.5 num_eg: 3000\n"
          ],
          "name": "stdout"
        },
        {
          "output_type": "display_data",
          "data": {
            "image/png": "[encoded data removed]",
            "text/plain": [
              "<Figure size 432x288 with 2 Axes>"
            ]
          },
          "metadata": {
            "tags": []
          }
        }
      ]
    },
    {
      "cell_type": "code",
      "metadata": {
        "colab_type": "code",
        "outputId": "667e24dc-af7e-4756-de5e-e25ea33ae9b5",
        "id": "ddeV9FfVAWS9",
        "colab": {
          "base_uri": "https://localhost:8080/",
          "height": 224
        }
      },
      "source": [
        "get_submission_csv(\"/content/drive/My Drive/testData.csv\",nn_1,\"submission.csv\")"
      ],
      "execution_count": 0,
      "outputs": [
        {
          "output_type": "stream",
          "text": [
            "(3000, 25)\n",
            "   id  label\n",
            "0   1      7\n",
            "1   2      9\n",
            "2   3      1\n",
            "3   4      4\n",
            "4   5      7\n",
            "5   6      4\n",
            "6   7      0\n",
            "7   8      1\n",
            "8   9      8\n",
            "9  10      0\n"
          ],
          "name": "stdout"
        }
      ]
    },
    {
      "cell_type": "markdown",
      "metadata": {
        "id": "Z54sF-yALVDy",
        "colab_type": "text"
      },
      "source": [
        "# Multiple Neural Networks: 1 vs rest and boosting algorithms"
      ]
    },
    {
      "cell_type": "code",
      "metadata": {
        "id": "Gv35Ca6VLUgL",
        "colab_type": "code",
        "colab": {}
      },
      "source": [
        "def predict_multiple(n_list,x,y,path=\"nan\",pred_on_xy=False):\n",
        "  if(pred_on_xy==True):  \n",
        "    data=np.array(list(zip(x,y)))\n",
        "    correct=0\n",
        "    for data_point,label in data :\n",
        "      out=[0]*10\n",
        "      data_point=data_point.reshape(len(data_point),1)\n",
        "      label=label.reshape(len(label),1)   \n",
        "      for n_i in n_list:\n",
        "        out[np.argmax(n_i.predict(data_point))]+=1\n",
        "      pred_out=np.argmax(out)\n",
        "      if(pred_out==np.argmax(label)):\n",
        "        correct+=1\n",
        "    accuracy=correct*100/len(x)\n",
        "    print(\"accuracy:\",accuracy)\n",
        "  if(path!=\"nan\"):\n",
        "    data=get_test_data(path)\n",
        "    predictions=[]\n",
        "    id=[]\n",
        "    i=1\n",
        "    for data_point in data:\n",
        "      out=[0]*10\n",
        "      data_point=data_point.reshape(len(data_point),1)\n",
        "      for n_i in n_list:\n",
        "        out[np.argmax(n_i.predict(datapoint))]+=1\n",
        "      predictions.append(np.argmax(out))\n",
        "      id.append(i)\n",
        "      i+=1  \n",
        "      submission=pd.DataFrame()\n",
        "    submission['id']=id\n",
        "    submission['label']=predictions\n",
        "    submission.to_csv(pred_csv_file_path,index=False)\n",
        "    print(submission.head(10))    "
      ],
      "execution_count": 0,
      "outputs": []
    },
    {
      "cell_type": "code",
      "metadata": {
        "id": "sf1IpNxbUIkN",
        "colab_type": "code",
        "colab": {}
      },
      "source": [
        "nn=[nn_1,nn_2,nn_3,nn_4]"
      ],
      "execution_count": 0,
      "outputs": []
    },
    {
      "cell_type": "code",
      "metadata": {
        "id": "Wt_Ko6IMT9tX",
        "colab_type": "code",
        "outputId": "10603311-ff6e-4a3d-a5ea-623ec2bd3333",
        "colab": {
          "base_uri": "https://localhost:8080/",
          "height": 34
        }
      },
      "source": [
        "predict_multiple(nn,val_x,val_y,\"nan\",True)"
      ],
      "execution_count": 0,
      "outputs": [
        {
          "output_type": "stream",
          "text": [
            "accuracy: 95.08\n"
          ],
          "name": "stdout"
        }
      ]
    }
  ]
}
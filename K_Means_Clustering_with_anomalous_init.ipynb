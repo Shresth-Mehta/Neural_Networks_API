{
  "nbformat": 4,
  "nbformat_minor": 0,
  "metadata": {
    "colab": {
      "name": "K-Means Clustering with anomalous init.ipynb",
      "provenance": [],
      "collapsed_sections": [
        "wqGR43l67nKh"
      ],
      "toc_visible": true,
      "authorship_tag": "ABX9TyNMvyH+s6TS59aBKmco3jRg",
      "include_colab_link": true
    },
    "kernelspec": {
      "name": "python3",
      "display_name": "Python 3"
    }
  },
  "cells": [
    {
      "cell_type": "markdown",
      "metadata": {
        "id": "view-in-github",
        "colab_type": "text"
      },
      "source": [
        "<a href=\"https://colab.research.google.com/github/Shresth-Mehta/Neural_Networks_API/blob/master/K_Means_Clustering_with_anomalous_init.ipynb\" target=\"_parent\"><img src=\"https://colab.research.google.com/assets/colab-badge.svg\" alt=\"Open In Colab\"/></a>"
      ]
    },
    {
      "cell_type": "code",
      "metadata": {
        "id": "Lc5JnErlzyel",
        "colab_type": "code",
        "colab": {}
      },
      "source": [
        "import numpy as np\n",
        "import random \n",
        "import matplotlib.pyplot as plt\n",
        "from sklearn import datasets\n",
        "import pandas as pd"
      ],
      "execution_count": 0,
      "outputs": []
    },
    {
      "cell_type": "code",
      "metadata": {
        "id": "LNLeNA9cxv-p",
        "colab_type": "code",
        "colab": {}
      },
      "source": [
        "class KMeans_:\n",
        "  def __init__(self,n_clusters,in_centeroid,epochs,initial,p,use_weights,beta):\n",
        "    self.n_clusters=n_clusters\n",
        "    self.clusters=[]\n",
        "    self.in_centeroid=in_centeroid\n",
        "    self.epochs=epochs\n",
        "    self.initial=initial\n",
        "    self.p=p\n",
        "    self.use_weights=use_weights\n",
        "    self.w=None\n",
        "    self.beta=beta\n",
        "\n",
        "  def __add_cluster(self,head_point):\n",
        "    self.clusters.append(Cluster(head_point)) \n",
        "\n",
        "  def __get_distance(self,dp1,dp2):\n",
        "    if(self.use_weights==True):\n",
        "      return np.sum(((self.w)**beta)*np.abs(dp1-dp2)**self.p)\n",
        "    return np.sum(np.abs(dp1-dp2)**self.p)\n",
        "\n",
        "  def pred(self,datapoint):\n",
        "    return np.argmin([self.__get_distance(datapoint, cluster.centeroid) for cluster in self.clusters])\n",
        "\n",
        "  def __update_weights(self):\n",
        "    return\n",
        "\n",
        "    \n",
        "  def fit(self,X):\n",
        "    if(self.initial=='iK'):\n",
        "      if(self.use_weights==True):\n",
        "        self.w=np.random.random(X[0].shape)\n",
        "      invalid_points=[]\n",
        "      num_itr=1\n",
        "      while(len(invalid_points)!=len(X)):\n",
        "        max_distance=-1\n",
        "        max_index=-1\n",
        "        for i,datapoint in enumerate(X):\n",
        "          if(i not in invalid_points):\n",
        "            dis=self.__get_distance(datapoint,self.in_centeroid)\n",
        "            if(dis>=max_distance):\n",
        "              max_distance=dis\n",
        "              max_index=i\n",
        "        #invalid_points.append(max_index)\n",
        "        self.__add_cluster(X[max_index])\n",
        "        self.clusters[-1].empty()\n",
        "        prev_centeroid=self.clusters[-1].centeroid\n",
        "        while(True):\n",
        "          invalid_2=[]\n",
        "          for i,datapoint in enumerate(X):\n",
        "            #datapoint=np.reshape(datapoint,(*x[0].shape,1))\n",
        "            if(i not in invalid_points):\n",
        "              dis_cluster=self.__get_distance(datapoint,self.clusters[-1].centeroid)\n",
        "              dis_in_centeroid=self.__get_distance(datapoint,self.in_centeroid)\n",
        "              if(dis_in_centeroid>=dis_cluster):\n",
        "                self.clusters[-1].add_datapoint(datapoint)\n",
        "                invalid_2.append(i)\n",
        "          current_centeroid=self.clusters[-1].calc_mean()\n",
        "          #update the weights\n",
        "          if(self.use_weights==True):\n",
        "            self.__update_weights()\n",
        "          #print(prev_centeroid,current_centeroid,self.clusters[-1].get_size())\n",
        "          \n",
        "          if(np.all(prev_centeroid==current_centeroid)):\n",
        "            #print(\"yes\",current_centeroid)\n",
        "            for j in invalid_2:\n",
        "              invalid_points.append(j)\n",
        "            break\n",
        "          else:\n",
        "            #print(\"no\",current_centeroid)\n",
        "            prev_centeroid=current_centeroid\n",
        "            self.clusters[-1].empty()\n",
        "        #print(len(invalid_points),self.clusters[0].get_size())\n",
        "        #break #added\n",
        "      if(self.n_clusters!=None and len(self.clusters)>self.n_clusters):\n",
        "        #select n greatest clusters and remove the rest \n",
        "        self.clusters.sort(key=lambda p:p.get_size(),reverse=True)\n",
        "        rem_index=-1\n",
        "        for index in range(len(self.clusters)):\n",
        "          if(index>self.n_clusters-1):\n",
        "            rem_index=index\n",
        "            break\n",
        "        del self.clusters[rem_index:]\n",
        "      for cluster in self.clusters:\n",
        "        cluster.calc_mean()\n",
        "        cluster.empty() \n",
        "\n",
        "    invalid_points=[]\n",
        "    old_means=[]\n",
        "    for cluster in self.clusters:\n",
        "      old_means.append(cluster.centeroid)\n",
        "    for epoch in range(self.epochs):\n",
        "      for i,datapoint in enumerate(X):\n",
        "        self.clusters[self.pred(datapoint)].add_datapoint(datapoint)\n",
        "        #self.clusters[self.pred(datapoint)].calc_mean() #added this\n",
        "      new_means=[]\n",
        "      for cluster in self.clusters:\n",
        "        new_means.append(cluster.calc_mean())\n",
        "        cluster.empty()\n",
        "      same=0\n",
        "      for mean_1,mean_2 in zip(new_means,old_means):\n",
        "        #print(mean_1,mean_2)\n",
        "        if(np.all(mean_1==mean_2)):\n",
        "          same+=1\n",
        "      old_means.clear()\n",
        "      for mean in new_means:\n",
        "        old_means.append(mean)  \n",
        "      #print(same)\n",
        "      if(self.use_weights==True):\n",
        "        self.__update_weights()\n",
        "      if(same==len(new_means)):\n",
        "        print(\"Converged after:\",epoch,\"epochs\")\n",
        "        break\n",
        "        \n",
        "  \n",
        "  def get_cluster_elements(self,X,cluster_number):\n",
        "    ans=[]\n",
        "    for datapoint in X:\n",
        "      if(cluster_number==self.pred(datapoint)):\n",
        "        ans.append(datapoint)\n",
        "    #print(len(ans))\n",
        "    return ans\n",
        "  def cluster_centers(self):\n",
        "    ans=[]\n",
        "    for cluster in self.clusters:\n",
        "      ans.append(cluster.centeroid)\n",
        "    return ans\n",
        "  def labels(self,X):\n",
        "    ans=[]\n",
        "    for datapoint in X:\n",
        "      ans.append(self.pred(datapoint))\n",
        "    return ans\n",
        "  def accuracy(self,Y,X):\n",
        "    pred_diff=list(Y-self.labels(X))\n",
        "    correct=pred_diff.count(0)\n",
        "    accuracy=correct*100/len(Y)\n",
        "    return accuracy"
      ],
      "execution_count": 0,
      "outputs": []
    },
    {
      "cell_type": "code",
      "metadata": {
        "id": "I47ZbvS8ydws",
        "colab_type": "code",
        "colab": {}
      },
      "source": [
        "class Cluster:\n",
        "  def __init__(self,head_point):\n",
        "    self.centeroid=head_point\n",
        "    self.cluster_members=[head_point]\n",
        "  def calc_mean(self):\n",
        "    sum=0\n",
        "    for f_vector in self.cluster_members:\n",
        "      sum+=f_vector\n",
        "    if(self.get_size()!=0):\n",
        "      self.centeroid=np.divide(sum,self.get_size())\n",
        "    else: print(\"size=0\")\n",
        "    return self.centeroid\n",
        "  def add_datapoint(self,datapoint):\n",
        "    self.cluster_members.append(datapoint)\n",
        "    #self.calc_mean()\n",
        "  def empty(self):\n",
        "    self.cluster_members=[]\n",
        "  def get_size(self):\n",
        "    return len(self.cluster_members)"
      ],
      "execution_count": 0,
      "outputs": []
    },
    {
      "cell_type": "code",
      "metadata": {
        "id": "lzC6CepYAtw-",
        "colab_type": "code",
        "colab": {}
      },
      "source": [
        "import sklearn \n",
        "from sklearn.cluster import KMeans\n",
        "#from mpl_toolkits.mplot3d import Axes3D\n",
        "from sklearn.preprocessing import scale\n",
        "#import sklearn.metrics as sm\n",
        "from sklearn import datasets\n",
        "#from sklearn.metrics import confusion_matrix,classification_report\n",
        "%matplotlib inline"
      ],
      "execution_count": 0,
      "outputs": []
    },
    {
      "cell_type": "markdown",
      "metadata": {
        "id": "gOgALshA44So",
        "colab_type": "text"
      },
      "source": [
        "# getting data\n"
      ]
    },
    {
      "cell_type": "code",
      "metadata": {
        "id": "WMauafjJ47aU",
        "colab_type": "code",
        "colab": {}
      },
      "source": [
        "iris=datasets.load_iris()\n",
        "x=scale(iris.data)\n",
        "y=pd.DataFrame(iris.target)\n",
        "variable_names=iris.feature_names\n",
        "a=np.reshape(x,(150,4,1))\n",
        "b=list(a)\n",
        "iris_df=pd.DataFrame(iris.data)\n",
        "iris_df.columns=['Sepal_Length','Sepal_Width','Petal_length','Petal_Width']\n",
        "y.columns=['target']\n",
        "c=iris.target"
      ],
      "execution_count": 0,
      "outputs": []
    },
    {
      "cell_type": "code",
      "metadata": {
        "id": "mUkHB1ft8Kv-",
        "colab_type": "code",
        "colab": {}
      },
      "source": [
        "def data_mean(b):\n",
        "  grand_mean=0\n",
        "  for point in b:\n",
        "    grand_mean+=point\n",
        "  return grand_mean/len(b)"
      ],
      "execution_count": 0,
      "outputs": []
    },
    {
      "cell_type": "code",
      "metadata": {
        "id": "UMaFrZV48RBt",
        "colab_type": "code",
        "outputId": "f1533310-5638-495c-8289-ecea67a264be",
        "colab": {
          "base_uri": "https://localhost:8080/",
          "height": 86
        }
      },
      "source": [
        "print(data_mean(b))"
      ],
      "execution_count": 0,
      "outputs": [
        {
          "output_type": "stream",
          "text": [
            "[[-1.69031455e-15]\n",
            " [-1.84297022e-15]\n",
            " [-1.69864123e-15]\n",
            " [-1.40924309e-15]]\n"
          ],
          "name": "stdout"
        }
      ]
    },
    {
      "cell_type": "markdown",
      "metadata": {
        "id": "wqGR43l67nKh",
        "colab_type": "text"
      },
      "source": [
        "# Library Implementation\n"
      ]
    },
    {
      "cell_type": "code",
      "metadata": {
        "id": "56Hc2cTRCUb5",
        "colab_type": "code",
        "outputId": "92a51919-a4c5-462e-c8d5-cec1f76e344d",
        "colab": {
          "base_uri": "https://localhost:8080/",
          "height": 69
        }
      },
      "source": [
        "clustering=KMeans(n_clusters=3,random_state=5)\n",
        "clustering.fit(x)"
      ],
      "execution_count": 0,
      "outputs": [
        {
          "output_type": "execute_result",
          "data": {
            "text/plain": [
              "KMeans(algorithm='auto', copy_x=True, init='k-means++', max_iter=300,\n",
              "       n_clusters=3, n_init=10, n_jobs=None, precompute_distances='auto',\n",
              "       random_state=5, tol=0.0001, verbose=0)"
            ]
          },
          "metadata": {
            "tags": []
          },
          "execution_count": 8
        }
      ]
    },
    {
      "cell_type": "code",
      "metadata": {
        "id": "34Eq2gJH8lnO",
        "colab_type": "code",
        "outputId": "bb5c7974-7120-41af-d8a7-eee401994483",
        "colab": {
          "base_uri": "https://localhost:8080/",
          "height": 69
        }
      },
      "source": [
        "clustering.cluster_centers_"
      ],
      "execution_count": 0,
      "outputs": [
        {
          "output_type": "execute_result",
          "data": {
            "text/plain": [
              "array([[-0.05021989, -0.88337647,  0.34773781,  0.2815273 ],\n",
              "       [-1.01457897,  0.85326268, -1.30498732, -1.25489349],\n",
              "       [ 1.13597027,  0.08842168,  0.99615451,  1.01752612]])"
            ]
          },
          "metadata": {
            "tags": []
          },
          "execution_count": 9
        }
      ]
    },
    {
      "cell_type": "markdown",
      "metadata": {
        "id": "_Kvp2BFs8Ztz",
        "colab_type": "text"
      },
      "source": [
        "# My Implementation"
      ]
    },
    {
      "cell_type": "code",
      "metadata": {
        "id": "GPgaPEWxtn61",
        "colab_type": "code",
        "outputId": "a0e03de0-e9b4-4bc9-aec6-bf3e2b0c723b",
        "colab": {
          "base_uri": "https://localhost:8080/",
          "height": 34
        }
      },
      "source": [
        "my_clustering=KMeans_(3,data_mean(b),100,'iK',2,False,0)\n",
        "my_clustering.fit(b)\n",
        "#n_clusters,in_centeroid,epochs,initial,p"
      ],
      "execution_count": 0,
      "outputs": [
        {
          "output_type": "stream",
          "text": [
            "Converged after: 4 epochs\n"
          ],
          "name": "stdout"
        }
      ]
    },
    {
      "cell_type": "code",
      "metadata": {
        "id": "wvGJTMznhS-g",
        "colab_type": "code",
        "outputId": "e940fa93-1fe7-4a9c-ac71-efdf9e18b2a2",
        "colab": {
          "base_uri": "https://localhost:8080/",
          "height": 224
        }
      },
      "source": [
        "len(my_clustering.clusters)\n",
        "for s in my_clustering.clusters:\n",
        "  print(s.centeroid,s.get_size())"
      ],
      "execution_count": 0,
      "outputs": [
        {
          "output_type": "stream",
          "text": [
            "[[1.03359865]\n",
            " [0.00613858]\n",
            " [0.94360463]\n",
            " [0.9725624 ]] 0\n",
            "[[-1.00206653]\n",
            " [ 0.90625492]\n",
            " [-1.30310821]\n",
            " [-1.25634413]] 0\n",
            "[[-0.16840578]\n",
            " [-0.9726981 ]\n",
            " [ 0.2598706 ]\n",
            " [ 0.17543327]] 0\n"
          ],
          "name": "stdout"
        }
      ]
    },
    {
      "cell_type": "code",
      "metadata": {
        "id": "lBbLtb3xTzxm",
        "colab_type": "code",
        "outputId": "fd600222-3601-4eaa-8810-27504dbda881",
        "colab": {
          "base_uri": "https://localhost:8080/",
          "height": 69
        }
      },
      "source": [
        "for i in range(3):\n",
        "  print(len(my_clustering.get_cluster_elements(b,i)))"
      ],
      "execution_count": 0,
      "outputs": [
        {
          "output_type": "stream",
          "text": [
            "55\n",
            "49\n",
            "46\n"
          ],
          "name": "stdout"
        }
      ]
    },
    {
      "cell_type": "code",
      "metadata": {
        "id": "2XFYfE1g9JNs",
        "colab_type": "code",
        "outputId": "4c10013e-1a89-4704-bac7-0d33a6f96eb8",
        "colab": {
          "base_uri": "https://localhost:8080/",
          "height": 52
        }
      },
      "source": [
        "r=my_clustering.labels(a)\n",
        "print(r[:4])\n",
        "hi=my_clustering.labels(b)\n",
        "print(hi[:4])"
      ],
      "execution_count": 0,
      "outputs": [
        {
          "output_type": "stream",
          "text": [
            "[1, 1, 1, 1]\n",
            "[1, 1, 1, 1]\n"
          ],
          "name": "stdout"
        }
      ]
    },
    {
      "cell_type": "code",
      "metadata": {
        "id": "esseWQIyr0wr",
        "colab_type": "code",
        "outputId": "f9afe4d6-77f5-4109-eb5c-8b49237e819a",
        "colab": {
          "base_uri": "https://localhost:8080/",
          "height": 298
        }
      },
      "source": [
        "relabel_my=np.choose(r,[2,1,0]).astype(np.int64)\n",
        "relabel=np.choose(iris.target,[1,0,2]).astype(np.int64)\n",
        "color_theme=np.array(['darkgray','lightsalmon','powderblue'])\n",
        "plt.subplot(1,3,1)\n",
        "plt.scatter(x=iris_df.Petal_length,y=iris_df.Petal_Width,c=color_theme[relabel],s=50)\n",
        "plt.title('Ground Truth Classification')\n",
        "plt.subplot(1,3,2)\n",
        "r=my_clustering.labels(b)\n",
        "plt.scatter(x=iris_df.Petal_length,y=iris_df.Petal_Width,c=color_theme[relabel_my],s=50)\n",
        "plt.subplot(1,3,3)\n",
        "plt.scatter(x=iris_df.Petal_length,y=iris_df.Petal_Width,c=color_theme[clustering.labels_],s=50)\n",
        "\n",
        "#mid:2, down:1, up:0"
      ],
      "execution_count": 0,
      "outputs": [
        {
          "output_type": "execute_result",
          "data": {
            "text/plain": [
              "<matplotlib.collections.PathCollection at 0x7f4f849b9b70>"
            ]
          },
          "metadata": {
            "tags": []
          },
          "execution_count": 73
        },
        {
          "output_type": "display_data",
          "data": {
            "image/png": "[encoded data removed]",
            "text/plain": [
              "<Figure size 432x288 with 3 Axes>"
            ]
          },
          "metadata": {
            "tags": []
          }
        }
      ]
    },
    {
      "cell_type": "code",
      "metadata": {
        "id": "OyhHEOmrHxu7",
        "colab_type": "code",
        "outputId": "b775edde-5426-45c7-bfe6-23795d7834a7",
        "colab": {
          "base_uri": "https://localhost:8080/",
          "height": 106
        }
      },
      "source": [
        "print((iris.target[:100]))\n",
        "print(my_clustering.labels(b[:100]))"
      ],
      "execution_count": 0,
      "outputs": [
        {
          "output_type": "stream",
          "text": [
            "[0 0 0 0 0 0 0 0 0 0 0 0 0 0 0 0 0 0 0 0 0 0 0 0 0 0 0 0 0 0 0 0 0 0 0 0 0\n",
            " 0 0 0 0 0 0 0 0 0 0 0 0 0 1 1 1 1 1 1 1 1 1 1 1 1 1 1 1 1 1 1 1 1 1 1 1 1\n",
            " 1 1 1 1 1 1 1 1 1 1 1 1 1 1 1 1 1 1 1 1 1 1 1 1 1 1]\n",
            "[1, 1, 1, 1, 1, 1, 1, 1, 1, 1, 1, 1, 1, 1, 1, 1, 1, 1, 1, 1, 1, 1, 1, 1, 1, 1, 1, 1, 1, 1, 1, 1, 1, 1, 1, 1, 1, 1, 1, 1, 1, 2, 1, 1, 1, 1, 1, 1, 1, 1, 0, 0, 0, 2, 0, 2, 0, 2, 0, 2, 2, 2, 2, 2, 2, 0, 2, 2, 2, 2, 0, 2, 2, 2, 2, 0, 0, 0, 2, 2, 2, 2, 2, 2, 2, 0, 0, 2, 2, 2, 2, 2, 2, 2, 2, 2, 2, 2, 2, 2]\n"
          ],
          "name": "stdout"
        }
      ]
    },
    {
      "cell_type": "code",
      "metadata": {
        "colab_type": "code",
        "outputId": "e0e75761-3cd1-44f0-ad9b-1c0035060acd",
        "id": "-m0w1vzqk4uT",
        "colab": {
          "base_uri": "https://localhost:8080/",
          "height": 34
        }
      },
      "source": [
        "g=list(relabel-relabel_my)\n",
        "print(\"accuracy:\",g.count(0)/len(g))"
      ],
      "execution_count": 0,
      "outputs": [
        {
          "output_type": "stream",
          "text": [
            "accuracy: 0.8533333333333334\n"
          ],
          "name": "stdout"
        }
      ]
    }
  ]
}